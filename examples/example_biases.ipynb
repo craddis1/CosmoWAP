{
 "cells": [
  {
   "cell_type": "markdown",
   "id": "791c7eb2",
   "metadata": {},
   "source": [
    "# Lets have a look how biases are defined..."
   ]
  },
  {
   "cell_type": "code",
   "execution_count": 1,
   "id": "0415c3bd",
   "metadata": {},
   "outputs": [],
   "source": [
    "import numpy as np\n",
    "from matplotlib import pyplot as plt\n",
    "from tqdm.auto import tqdm\n",
    "import matplotlib.pyplot as plt\n",
    "import scipy\n",
    "\n",
    "import cosmo_wap as cw"
   ]
  },
  {
   "cell_type": "markdown",
   "id": "243c4910",
   "metadata": {},
   "source": [
    "# compute cosmology with class"
   ]
  },
  {
   "cell_type": "code",
   "execution_count": 2,
   "id": "a87620b2",
   "metadata": {},
   "outputs": [],
   "source": [
    "#import and define cosmlogy in class\n",
    "from classy import Class\n",
    "\n",
    "#Start by specifying the cosmology  - planck best fit\n",
    "h = 0.6766\n",
    "Omega_b = 0.02242/h**2\n",
    "Omega_cdm = 0.11933/h**2\n",
    "Omega_m = Omega_cdm+Omega_b\n",
    "A_s = 2.105e-9 \n",
    "n_s = 0.9665\n",
    "\n",
    "#Create a params dictionary\n",
    "#Need to specify the max wavenumber\n",
    "k_max = 100 #UNITS: 1/Mpc # is also set to 10 later #100 for sigma integration\n",
    "params = {'output':'mPk,mTk',\n",
    "             'non linear':'halofit',\n",
    "             'Omega_b':Omega_b,\n",
    "             'Omega_cdm':Omega_cdm,#Omega_m-Omega_b,#\n",
    "             'h':h,\n",
    "             'n_s':n_s,\n",
    "             'A_s':A_s,#'n_s':n_s,'sigma8':0.828,#\n",
    "             'P_k_max_1/Mpc':k_max,\n",
    "             'z_max_pk':10. \n",
    "}\n",
    "\n",
    "#Initialize the cosmology and compute everything\n",
    "cosmo = Class()\n",
    "cosmo.set(params)\n",
    "cosmo.compute()"
   ]
  },
  {
   "cell_type": "markdown",
   "id": "e39f516d",
   "metadata": {},
   "source": [
    "# So we need to also define survey specific parameters like biases"
   ]
  },
  {
   "cell_type": "code",
   "execution_count": 3,
   "id": "c653a162",
   "metadata": {},
   "outputs": [],
   "source": [
    "survey_params = cw.survey_params.SurveyParams(cosmo)"
   ]
  },
  {
   "cell_type": "code",
   "execution_count": 4,
   "id": "173bc054",
   "metadata": {},
   "outputs": [
    {
     "name": "stdout",
     "output_type": "stream",
     "text": [
      "dict_keys(['b_1', 'z_range', 'be_survey', 'Q_survey', 'n_g', 'f_sky'])\n"
     ]
    }
   ],
   "source": [
    "survey_params.Euclid.b_1\n",
    "print(survey_params.Euclid.__dict__.keys())"
   ]
  },
  {
   "cell_type": "code",
   "execution_count": 14,
   "id": "3ff46a57",
   "metadata": {},
   "outputs": [
    {
     "name": "stdout",
     "output_type": "stream",
     "text": [
      "Computing bias params...\n"
     ]
    }
   ],
   "source": [
    "cosmo_funcs = cw.ClassWAP(cosmo,[survey_params.Euclid])"
   ]
  },
  {
   "cell_type": "code",
   "execution_count": 10,
   "id": "b6c80ad9",
   "metadata": {},
   "outputs": [
    {
     "data": {
      "text/plain": [
       "[<matplotlib.lines.Line2D at 0x7fd7406fc760>]"
      ]
     },
     "execution_count": 10,
     "metadata": {},
     "output_type": "execute_result"
    },
    {
     "data": {
      "image/png": "[encoded data removed]",
      "text/plain": [
       "<Figure size 432x288 with 1 Axes>"
      ]
     },
     "metadata": {
      "needs_background": "light"
     },
     "output_type": "display_data"
    }
   ],
   "source": [
    "zz = cosmo_funcs.z_survey\n",
    "#plt.plot(zz,cosmo_funcs.survey.M0_func(zz))\n",
    "plt.plot(zz,cosmo_funcs.survey.NO_func(zz))"
   ]
  },
  {
   "cell_type": "code",
   "execution_count": 14,
   "id": "6a051082",
   "metadata": {},
   "outputs": [
    {
     "data": {
      "text/plain": [
       "[<matplotlib.lines.Line2D at 0x7efccc36fdc0>]"
      ]
     },
     "execution_count": 14,
     "metadata": {},
     "output_type": "execute_result"
    },
    {
     "data": {
      "image/png": "[encoded data removed]",
      "text/plain": [
       "<Figure size 432x288 with 1 Axes>"
      ]
     },
     "metadata": {
      "needs_background": "light"
     },
     "output_type": "display_data"
    }
   ],
   "source": [
    "zz = np.linspace(0.9,1.8)\n",
    "plt.plot(zz,cosmo_funcs.survey.b_1(zz))\n",
    "plt.plot(zz,cosmo_funcs.survey.b_2(zz))\n",
    "plt.plot(zz,cosmo_funcs.survey.loc.b_psi(zz),'--')\n",
    "plt.plot(zz,cosmo_funcs.survey.loc.b_psi_delta(zz),'--')"
   ]
  }
 ],
 "metadata": {
  "kernelspec": {
   "display_name": "Python 3",
   "language": "python",
   "name": "python3"
  },
  "language_info": {
   "codemirror_mode": {
    "name": "ipython",
    "version": 3
   },
   "file_extension": ".py",
   "mimetype": "text/x-python",
   "name": "python",
   "nbconvert_exporter": "python",
   "pygments_lexer": "ipython3",
   "version": "3.8.8"
  }
 },
 "nbformat": 4,
 "nbformat_minor": 5
}
