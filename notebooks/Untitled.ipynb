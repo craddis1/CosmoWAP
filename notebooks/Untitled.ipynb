{
 "cells": [
  {
   "cell_type": "code",
   "execution_count": 23,
   "id": "78187a5f",
   "metadata": {},
   "outputs": [],
   "source": [
    "import numpy as np\n",
    "from itertools import permutations, combinations"
   ]
  },
  {
   "cell_type": "code",
   "execution_count": 40,
   "id": "38d93302",
   "metadata": {},
   "outputs": [
    {
     "name": "stdout",
     "output_type": "stream",
     "text": [
      "216\n",
      "54\n",
      " 11 23\n",
      " 21 13\n",
      " 13 21\n",
      " 21 13\n",
      " 23 11\n",
      " 21 13\n",
      " 13 21\n",
      " 13 21\n",
      " 23 11\n",
      " 11 23\n",
      " 11 23\n",
      " 23 11\n"
     ]
    }
   ],
   "source": [
    "effects = list(permutations([\"I\", \"R\", \"R\"]))\n",
    "order = list(permutations([1,1,2]))\n",
    "kNumber = list(permutations([1,2,3]))\n",
    "\n",
    "total_perms = []\n",
    "\n",
    "for i in effects:\n",
    "    for k in order:\n",
    "        for l in kNumber:\n",
    "            #for j in range(0,3):\n",
    "            perm = f\"{i[0]}{k[0]}{l[0]},{i[1]}{k[1]}{l[1]},{i[2]}{k[2]}{l[2]}\"\n",
    "            total_perms.append(perm)\n",
    "\n",
    "\n",
    "print(len(total_perms))\n",
    "print(len(set(total_perms)))\n",
    "\n",
    "for j in set(total_perms):\n",
    "    \n",
    "    if True:\n",
    "        if 'I12' in j:\n",
    "            #print(j)\n",
    "            print(j.replace('I12','').replace(',','').replace('R',' '))\n",
    "                "
   ]
  },
  {
   "cell_type": "code",
   "execution_count": 43,
   "id": "74b13346",
   "metadata": {},
   "outputs": [],
   "source": [
    "effects = list(permutations([\"I\", \"R\", \"R\"]))\n",
    "order = list(permutations([1,1,2]))\n",
    "kNumber = list(permutations([1,2,3]))\n",
    "\n",
    "total_perms = []\n",
    "\n",
    "for k in order:\n",
    "    \n",
    "    #for j in range(0,3):\n",
    "    perm = f\"{i[0]}{k[0]}{l[0]},{i[1]}{k[1]}{l[1]},{i[2]}{k[2]}{l[2]}\"\n",
    "    total_perms.append(perm)\n"
   ]
  },
  {
   "cell_type": "code",
   "execution_count": 44,
   "id": "de534436",
   "metadata": {},
   "outputs": [
    {
     "name": "stdout",
     "output_type": "stream",
     "text": [
      "6\n",
      "3\n",
      "R13,R22,I11\n",
      "R23,R12,I11\n",
      "R13,R12,I21\n"
     ]
    }
   ],
   "source": [
    "print(len(total_perms))\n",
    "print(len(set(total_perms)))\n",
    "\n",
    "for j in set(total_perms):\n",
    "    print(j)"
   ]
  },
  {
   "cell_type": "code",
   "execution_count": 46,
   "id": "19a425b7",
   "metadata": {},
   "outputs": [
    {
     "name": "stdout",
     "output_type": "stream",
     "text": [
      "36\n",
      "9\n",
      "I1,R1,R2\n",
      "R1,I1,R2\n",
      "R1,R1,I2\n",
      "R1,R2,I1\n",
      "I1,R2,R1\n",
      "R1,I2,R1\n",
      "R2,R1,I1\n",
      "I2,R1,R1\n",
      "R2,I1,R1\n"
     ]
    }
   ],
   "source": [
    "total_perms = []\n",
    "for i in effects:\n",
    "    for k in order:\n",
    "        #for j in range(0,3):\n",
    "        perm = f\"{i[0]}{k[0]},{i[1]}{k[1]},{i[2]}{k[2]}\"\n",
    "        total_perms.append(perm)\n",
    "        \n",
    "print(len(total_perms))\n",
    "print(len(set(total_perms)))\n",
    "\n",
    "for j in set(total_perms):\n",
    "    print(j)"
   ]
  }
 ],
 "metadata": {
  "kernelspec": {
   "display_name": "Python 3",
   "language": "python",
   "name": "python3"
  },
  "language_info": {
   "codemirror_mode": {
    "name": "ipython",
    "version": 3
   },
   "file_extension": ".py",
   "mimetype": "text/x-python",
   "name": "python",
   "nbconvert_exporter": "python",
   "pygments_lexer": "ipython3",
   "version": "3.8.8"
  }
 },
 "nbformat": 4,
 "nbformat_minor": 5
}
